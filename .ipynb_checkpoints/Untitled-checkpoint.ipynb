{
 "cells": [
  {
   "cell_type": "code",
   "execution_count": 1,
   "id": "847229e5-59cd-4bff-b6b0-b73cf3c3bc06",
   "metadata": {},
   "outputs": [],
   "source": [
    "// Add the snapshot repository to get the DJL snapshot artifacts\n",
    "%mavenRepo snapshots https://oss.sonatype.org/content/repositories/snapshots/\n",
    "\n",
    "// Add the maven dependencies\n",
    "%maven ai.djl:api:0.28.0\n",
    "%maven ai.djl:basicdataset:0.28.0\n",
    "%maven ai.djl:model-zoo:0.28.0\n",
    "%maven ai.djl.mxnet:mxnet-engine:0.28.0\n",
    "%maven org.slf4j:slf4j-simple:1.7.36"
   ]
  },
  {
   "cell_type": "code",
   "execution_count": 2,
   "id": "db3c4cda-9dfe-449b-9066-47c4665f4e14",
   "metadata": {},
   "outputs": [],
   "source": [
    "import java.nio.file.*;\n",
    "\n",
    "import ai.djl.*;\n",
    "import ai.djl.basicdataset.cv.classification.Mnist;\n",
    "import ai.djl.ndarray.types.*;\n",
    "import ai.djl.training.*;\n",
    "import ai.djl.training.dataset.*;\n",
    "import ai.djl.training.initializer.*;\n",
    "import ai.djl.training.loss.*;\n",
    "import ai.djl.training.listener.*;\n",
    "import ai.djl.training.evaluator.*;\n",
    "import ai.djl.training.optimizer.*;\n",
    "import ai.djl.training.util.*;\n",
    "import ai.djl.basicmodelzoo.cv.classification.*;\n",
    "import ai.djl.basicmodelzoo.basic.*;"
   ]
  },
  {
   "cell_type": "code",
   "execution_count": 3,
   "id": "3155e6c9-6037-40f9-b81e-63d211e25592",
   "metadata": {},
   "outputs": [
    {
     "name": "stderr",
     "output_type": "stream",
     "text": [
      "[IJava-executor-2] INFO ai.djl.mxnet.jna.LibUtils - Downloading libgfortran.so.3 ...\n",
      "[IJava-executor-2] INFO ai.djl.mxnet.jna.LibUtils - Downloading libgomp.so.1 ...\n",
      "[IJava-executor-2] INFO ai.djl.mxnet.jna.LibUtils - Downloading libquadmath.so.0 ...\n",
      "[IJava-executor-2] INFO ai.djl.mxnet.jna.LibUtils - Downloading libopenblas.so.0 ...\n",
      "[IJava-executor-2] INFO ai.djl.mxnet.jna.LibUtils - Downloading libmxnet.so ...\n"
     ]
    },
    {
     "name": "stdout",
     "output_type": "stream",
     "text": [
      "\n",
      "ownloading: 100% |████████████████████████████████████████|"
     ]
    }
   ],
   "source": [
    "int batchSize = 32;\n",
    "Mnist mnist = Mnist.builder().setSampling(batchSize, true).build();\n",
    "mnist.prepare(new ProgressBar());"
   ]
  },
  {
   "cell_type": "code",
   "execution_count": 4,
   "id": "cc400f11-5e17-434a-9204-e50e90832e77",
   "metadata": {},
   "outputs": [],
   "source": [
    "Model model = Model.newInstance(\"mlp\");\n",
    "model.setBlock(new Mlp(28 * 28, 10, new int[] {128, 64}));"
   ]
  },
  {
   "cell_type": "code",
   "execution_count": 5,
   "id": "ab439776-df00-440d-96c7-500f065a3532",
   "metadata": {},
   "outputs": [
    {
     "name": "stderr",
     "output_type": "stream",
     "text": [
      "[IJava-executor-4] INFO ai.djl.training.listener.LoggingTrainingListener - Training on: cpu().\n",
      "[IJava-executor-4] INFO ai.djl.training.listener.LoggingTrainingListener - Load MXNet Engine Version 1.9.0 in 0.072 ms.\n"
     ]
    }
   ],
   "source": [
    "DefaultTrainingConfig config = new DefaultTrainingConfig(Loss.softmaxCrossEntropyLoss())\n",
    "    //softmaxCrossEntropyLoss is a standard loss for classification problems\n",
    "    .addEvaluator(new Accuracy()) // Use accuracy so we humans can understand how accurate the model is\n",
    "    .addTrainingListeners(TrainingListener.Defaults.logging());\n",
    "\n",
    "// Now that we have our training configuration, we should create a new trainer for our model\n",
    "Trainer trainer = model.newTrainer(config);\n"
   ]
  },
  {
   "cell_type": "code",
   "execution_count": 6,
   "id": "4c1fb82e-51fb-4c5c-a05d-6d79a363a5d2",
   "metadata": {},
   "outputs": [],
   "source": [
    "trainer.initialize(new Shape(1, 28 * 28));\n"
   ]
  },
  {
   "cell_type": "code",
   "execution_count": 7,
   "id": "ed1dc8bd-56f9-4638-abce-6980555e95b7",
   "metadata": {},
   "outputs": [
    {
     "name": "stdout",
     "output_type": "stream",
     "text": [
      "\n",
      "raining:    100% |████████████████████████████████████████| "
     ]
    },
    {
     "name": "stderr",
     "output_type": "stream",
     "text": [
      "[IJava-executor-6] INFO ai.djl.training.listener.LoggingTrainingListener - Epoch 1 finished.\n"
     ]
    },
    {
     "name": "stdout",
     "output_type": "stream",
     "text": [
      "\n",
      "raining:    100% |████████████████████████████████████████| "
     ]
    },
    {
     "name": "stderr",
     "output_type": "stream",
     "text": [
      "[IJava-executor-6] INFO ai.djl.training.listener.LoggingTrainingListener - Epoch 2 finished.\n"
     ]
    }
   ],
   "source": [
    " // Deep learning is typically trained in epochs where each epoch trains the model on each item in the dataset once.\n",
    "int epoch = 2;\n",
    "\n",
    "EasyTrain.fit(trainer, epoch, mnist, null);"
   ]
  },
  {
   "cell_type": "code",
   "execution_count": 8,
   "id": "652aa170-4e49-4d9a-8038-9ef6b94bca10",
   "metadata": {},
   "outputs": [
    {
     "data": {
      "text/plain": [
       "Model (\n",
       "\tName: mlp\n",
       "\tModel location: /home/ducnguyen/build/mlp\n",
       "\tData Type: float32\n",
       "\tEpoch: 2\n",
       ")"
      ]
     },
     "execution_count": 8,
     "metadata": {},
     "output_type": "execute_result"
    }
   ],
   "source": [
    "Path modelDir = Paths.get(\"build/mlp\");\n",
    "Files.createDirectories(modelDir);\n",
    "\n",
    "model.setProperty(\"Epoch\", String.valueOf(epoch));\n",
    "\n",
    "model.save(modelDir, \"mlp\");\n",
    "\n",
    "model"
   ]
  },
  {
   "cell_type": "code",
   "execution_count": 9,
   "id": "ebd56d22-47d6-402a-9eaa-340e1b007b42",
   "metadata": {},
   "outputs": [],
   "source": [
    "// Add the snapshot repository to get the DJL snapshot artifacts\n",
    "// %mavenRepo snapshots https://oss.sonatype.org/content/repositories/snapshots/\n",
    "\n",
    "// Add the maven dependencies\n",
    "%maven ai.djl:api:0.28.0\n",
    "%maven ai.djl:model-zoo:0.28.0\n",
    "%maven ai.djl.mxnet:mxnet-engine:0.28.0\n",
    "%maven ai.djl.mxnet:mxnet-model-zoo:0.28.0\n",
    "%maven org.slf4j:slf4j-simple:1.7.36"
   ]
  },
  {
   "cell_type": "code",
   "execution_count": 10,
   "id": "479f51e9-a9e9-47ed-8685-976410189f9e",
   "metadata": {},
   "outputs": [],
   "source": [
    "import java.awt.image.*;\n",
    "import java.nio.file.*;\n",
    "import java.util.*;\n",
    "import java.util.stream.*;\n",
    "import ai.djl.*;\n",
    "import ai.djl.basicmodelzoo.basic.*;\n",
    "import ai.djl.ndarray.*;\n",
    "import ai.djl.modality.*;\n",
    "import ai.djl.modality.cv.*;\n",
    "import ai.djl.modality.cv.util.NDImageUtils;\n",
    "import ai.djl.translate.*;"
   ]
  },
  {
   "cell_type": "code",
   "execution_count": 11,
   "id": "a92a991b-107b-48e5-855b-800379efe32c",
   "metadata": {},
   "outputs": [
    {
     "data": {
      "image/png": "[encoded data removed]",
      "text/plain": [
       "BufferedImage@13304a4e: type = 10 ColorModel: #pixelBits = 8 numComponents = 1 color space = java.awt.color.ICC_ColorSpace@2041ae4 transparency = 1 has alpha = false isAlphaPre = false ByteInterleavedRaster: width = 28 height = 28 #numDataElements 1 dataOff[0] = 0"
      ]
     },
     "execution_count": 11,
     "metadata": {},
     "output_type": "execute_result"
    }
   ],
   "source": [
    "var img = ImageFactory.getInstance().fromUrl(\"https://resources.djl.ai/images/0.png\");\n",
    "img.getWrappedImage();"
   ]
  },
  {
   "cell_type": "code",
   "execution_count": 12,
   "id": "a99ba98c-10cc-4d30-9c07-2f9a69b7e052",
   "metadata": {},
   "outputs": [],
   "source": [
    "Path modelDir = Paths.get(\"build/mlp\");\n",
    "Model model = Model.newInstance(\"mlp\");\n",
    "model.setBlock(new Mlp(28 * 28, 10, new int[] {128, 64}));\n",
    "model.load(modelDir);"
   ]
  },
  {
   "cell_type": "code",
   "execution_count": 17,
   "id": "f34afd4a-5017-4ee2-b263-7048c00ce5a7",
   "metadata": {},
   "outputs": [],
   "source": [
    "Translator<Image, Classifications> translator = new Translator<Image, Classifications>() {\n",
    "\n",
    "    @Override\n",
    "    public NDList processInput(TranslatorContext ctx, Image input) {\n",
    "        // Convert Image to NDArray\n",
    "        NDArray array = input.toNDArray(ctx.getNDManager(), Image.Flag.GRAYSCALE);\n",
    "        return new NDList(NDImageUtils.toTensor(array));\n",
    "    }\n",
    "\n",
    "    @Override\n",
    "    public Classifications processOutput(TranslatorContext ctx, NDList list) {\n",
    "        // Create a Classifications with the output probabilities\n",
    "        NDArray probabilities = list.singletonOrThrow().softmax(0);\n",
    "        List<String> classNames = IntStream.range(0, 10).mapToObj(String::valueOf).collect(Collectors.toList());\n",
    "        return new Classifications(classNames, probabilities);\n",
    "    }\n",
    "\n",
    "    @Override\n",
    "    public Batchifier getBatchifier() {\n",
    "        // The Batchifier describes how to combine a batch together\n",
    "        // Stacking, the most common batchifier, takes N [X1, X2, ...] arrays to a single [N, X1, X2, ...] array\n",
    "        return Batchifier.STACK;\n",
    "    }\n",
    "};\n"
   ]
  },
  {
   "cell_type": "code",
   "execution_count": null,
   "id": "e9e1fad1-9824-4acc-b8f6-82db3765d5e3",
   "metadata": {},
   "outputs": [],
   "source": [
    "var predictor = model.newPredictor(translator);"
   ]
  },
  {
   "cell_type": "code",
   "execution_count": 19,
   "id": "256f9dbc-2c74-48d5-b2d9-c7e057ab9834",
   "metadata": {},
   "outputs": [
    {
     "data": {
      "text/plain": [
       "[\n",
       "\t{\"class\": \"0\", \"probability\": 0.99998}\n",
       "\t{\"class\": \"2\", \"probability\": 0.00001}\n",
       "\t{\"class\": \"7\", \"probability\": 1.6e-06}\n",
       "\t{\"class\": \"6\", \"probability\": 7.4e-07}\n",
       "\t{\"class\": \"8\", \"probability\": 6.3e-08}\n",
       "]"
      ]
     },
     "execution_count": 19,
     "metadata": {},
     "output_type": "execute_result"
    }
   ],
   "source": [
    "var classifications = predictor.predict(img);\n",
    "\n",
    "classifications"
   ]
  },
  {
   "cell_type": "code",
   "execution_count": null,
   "id": "534738d0-2f17-4b9b-b5b4-c117f3044abb",
   "metadata": {},
   "outputs": [],
   "source": []
  }
 ],
 "metadata": {
  "kernelspec": {
   "display_name": "Java",
   "language": "java",
   "name": "java"
  },
  "language_info": {
   "codemirror_mode": "java",
   "file_extension": ".jshell",
   "mimetype": "text/x-java-source",
   "name": "Java",
   "pygments_lexer": "java",
   "version": "11.0.22+7-LTS"
  }
 },
 "nbformat": 4,
 "nbformat_minor": 5
}
